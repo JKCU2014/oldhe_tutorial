{
 "cells": [
  {
   "cell_type": "code",
   "execution_count": 1,
   "id": "789c8baf-0ecc-4b26-a90b-c624d98b6e58",
   "metadata": {},
   "outputs": [],
   "source": [
    "%load_ext autoreload\n",
    "%autoreload 2"
   ]
  },
  {
   "cell_type": "code",
   "execution_count": 2,
   "id": "db861d41-aeac-453f-afa0-e02b1424c6a7",
   "metadata": {},
   "outputs": [],
   "source": [
    "import dis\n",
    "import time\n",
    "import threading\n",
    "\n",
    "from circular_queue.unsafe import UnsafeCircularQueue\n",
    "from dinning_philosopher.fork import Fork\n",
    "from dinning_philosopher.philosopher import DeadLockPhilosopher\n",
    "from dinning_philosopher.philosopher import ServedPhilosopher"
   ]
  },
  {
   "cell_type": "markdown",
   "id": "05446bdc-7d4d-4f62-949f-704ef520ee28",
   "metadata": {},
   "source": [
    "# Race Conditions"
   ]
  },
  {
   "cell_type": "code",
   "execution_count": 3,
   "id": "22d572e2-dec8-44b8-b646-d62d55de4597",
   "metadata": {},
   "outputs": [],
   "source": [
    "def unsafe_increment(total):\n",
    "    global n\n",
    "    for i in range(total):\n",
    "        n += 1"
   ]
  },
  {
   "cell_type": "code",
   "execution_count": 4,
   "id": "502f5e6e-fc09-4fb2-9ea3-5328da6111d2",
   "metadata": {},
   "outputs": [
    {
     "name": "stdout",
     "output_type": "stream",
     "text": [
      "2000000\n"
     ]
    }
   ],
   "source": [
    "n = 0\n",
    "unsafe_increment(1000000)\n",
    "unsafe_increment(1000000)\n",
    "print(n)"
   ]
  },
  {
   "cell_type": "code",
   "execution_count": 5,
   "id": "6c3bf2b7-92cf-4a94-b823-833bf4690332",
   "metadata": {},
   "outputs": [
    {
     "name": "stdout",
     "output_type": "stream",
     "text": [
      "1545276\n"
     ]
    }
   ],
   "source": [
    "n = 0\n",
    "thread1 = threading.Thread(target=unsafe_increment, args=(1000000,))\n",
    "thread2 = threading.Thread(target=unsafe_increment, args=(1000000,))\n",
    "\n",
    "thread1.start()\n",
    "thread2.start()\n",
    "thread1.join()\n",
    "thread2.join()\n",
    "print(n)"
   ]
  },
  {
   "cell_type": "markdown",
   "id": "60cd1ce0-a01c-43d4-b74c-6037b7aca69f",
   "metadata": {},
   "source": [
    "`n += 1` 字节码："
   ]
  },
  {
   "cell_type": "code",
   "execution_count": 6,
   "id": "28b4ac9d-c5f4-412c-885c-9afe60a4f7f0",
   "metadata": {},
   "outputs": [
    {
     "name": "stdout",
     "output_type": "stream",
     "text": [
      "  4           0 LOAD_GLOBAL              0 (n)\n",
      "              2 LOAD_CONST               1 (1)\n",
      "              4 INPLACE_ADD\n",
      "              6 STORE_GLOBAL             0 (n)\n",
      "              8 LOAD_CONST               0 (None)\n",
      "             10 RETURN_VALUE\n"
     ]
    }
   ],
   "source": [
    "import dis\n",
    "def foo():\n",
    "    global n\n",
    "    n += 1\n",
    "dis.dis(foo, depth=0)"
   ]
  },
  {
   "cell_type": "markdown",
   "id": "42341216-4ebc-4eb9-a2a3-883ec880805c",
   "metadata": {},
   "source": [
    "# 锁"
   ]
  },
  {
   "cell_type": "code",
   "execution_count": 7,
   "id": "ceadf369-2043-4416-af0c-706cb0593c36",
   "metadata": {},
   "outputs": [
    {
     "name": "stdout",
     "output_type": "stream",
     "text": [
      "2000000\n"
     ]
    }
   ],
   "source": [
    "def safe_increment(total, lock):\n",
    "    global n\n",
    "    for i in range(total):\n",
    "        with lock:\n",
    "            n += 1\n",
    "\n",
    "\n",
    "n = 0\n",
    "lock = threading.Lock()\n",
    "thread1 = threading.Thread(target=safe_increment, args=(1000000, lock))\n",
    "thread2 = threading.Thread(target=safe_increment, args=(1000000, lock))\n",
    "\n",
    "thread1.start()\n",
    "thread2.start()\n",
    "thread1.join()\n",
    "thread2.join()\n",
    "print(n)"
   ]
  },
  {
   "cell_type": "markdown",
   "id": "d409145c-e8e3-4ab3-8948-917cde5b11b5",
   "metadata": {},
   "source": [
    "## 死锁"
   ]
  },
  {
   "cell_type": "markdown",
   "id": "9273fa64-a18a-4706-8f35-96665971c64c",
   "metadata": {},
   "source": [
    "### 生产者/消费者"
   ]
  },
  {
   "cell_type": "code",
   "execution_count": 8,
   "id": "39749b3c-f975-407c-8280-f54bdb5b6203",
   "metadata": {},
   "outputs": [],
   "source": [
    "def consume(queue, total):\n",
    "    for i in range(total):\n",
    "        if not queue.is_empty():\n",
    "            print(i, queue.remove())\n",
    "            time.sleep(0.1)\n",
    "\n",
    "def produce(queue, total, message):\n",
    "    for i in range(total):\n",
    "        if not queue.is_full():\n",
    "            queue.add('{:d}: {:s}'.format(i, message))\n",
    "            time.sleep(0.1)"
   ]
  },
  {
   "cell_type": "markdown",
   "id": "6ef76c24-966e-4157-b635-e9f7dda992dd",
   "metadata": {},
   "source": [
    "### 线程不安全的队列"
   ]
  },
  {
   "cell_type": "code",
   "execution_count": 9,
   "id": "187c8302-be6b-4535-91e0-a423232404fb",
   "metadata": {
    "tags": []
   },
   "outputs": [
    {
     "name": "stdout",
     "output_type": "stream",
     "text": [
      "0 0: Hello!\n",
      "1 0: Goodbye!\n",
      "2 1: Hello!\n",
      "3 1: Goodbye!\n",
      "4 2: Hello!\n",
      "5 2: Goodbye!\n",
      "6 3: Hello!\n",
      "7 3: Goodbye!\n",
      "8 4: Hello!\n",
      "9 4: Goodbye!\n",
      "10 5: Hello!\n",
      "11 5: Goodbye!\n",
      "12 6: Goodbye!\n",
      "13 6: Hello!\n",
      "14 7: Goodbye!\n",
      "15 7: Hello!\n",
      "16 8: Hello!\n",
      "17 8: Goodbye!\n",
      "18 9: Hello!\n",
      "19 10: Hello!\n",
      "20 11: Hello!\n",
      "21 12: Hello!\n",
      "22 13: Hello!\n",
      "23 14: Hello!\n",
      "24 15: Hello!\n",
      "25 16: Hello!\n",
      "26 17: Hello!\n",
      "27 18: Hello!\n",
      "28 19: Hello!\n",
      "29 20: Hello!\n",
      "30 21: Hello!\n",
      "31 22: Hello!\n",
      "32 23: Hello!\n",
      "33 24: Hello!\n",
      "34 25: Hello!\n",
      "35 26: Hello!\n",
      "36 27: Hello!\n",
      "37 28: Hello!\n",
      "38 29: Hello!\n",
      "39 30: Hello!\n",
      "40 31: Hello!\n",
      "41 32: Hello!\n",
      "42 33: Hello!\n",
      "43 34: Hello!\n",
      "44 35: Hello!\n",
      "45 36: Hello!\n",
      "46 37: Hello!\n",
      "47 38: Hello!\n",
      "48 39: Hello!\n",
      "49 40: Hello!\n",
      "50 41: Hello!\n",
      "51 42: Hello!\n",
      "52 43: Hello!\n",
      "53 44: Hello!\n",
      "54 45: Hello!\n",
      "55 46: Hello!\n",
      "56 47: Hello!\n",
      "57 48: Hello!\n",
      "58 49: Hello!\n",
      "59 50: Hello!\n",
      "60 51: Hello!\n",
      "61 52: Hello!\n",
      "62 53: Hello!\n",
      "63 54: Hello!\n",
      "64 55: Hello!\n",
      "65 56: Hello!\n",
      "66 57: Hello!\n",
      "67 58: Hello!\n",
      "68 59: Hello!\n",
      "69 60: Hello!\n",
      "70 61: Hello!\n",
      "71 62: Hello!\n",
      "72 63: Hello!\n",
      "73 64: Hello!\n",
      "74 65: Hello!\n",
      "75 66: Hello!\n",
      "76 67: Hello!\n",
      "77 68: Hello!\n",
      "78 69: Hello!\n",
      "79 70: Hello!\n",
      "80 71: Hello!\n",
      "81 72: Hello!\n",
      "82 73: Hello!\n",
      "83 74: Hello!\n",
      "84 75: Hello!\n",
      "85 76: Hello!\n",
      "86 77: Hello!\n",
      "87 78: Hello!\n",
      "88 79: Hello!\n",
      "89 80: Hello!\n",
      "90 81: Hello!\n",
      "91 82: Hello!\n",
      "92 83: Hello!\n",
      "93 84: Hello!\n",
      "94 85: Hello!\n",
      "95 86: Hello!\n",
      "96 87: Hello!\n",
      "97 88: Hello!\n",
      "98 89: Hello!\n",
      "99 90: Hello!\n",
      "100 91: Hello!\n",
      "101 92: Hello!\n",
      "102 93: Hello!\n",
      "103 94: Hello!\n",
      "104 95: Hello!\n",
      "105 96: Hello!\n",
      "106 97: Hello!\n",
      "107 98: Hello!\n",
      "108 99: Hello!\n"
     ]
    }
   ],
   "source": [
    "unsafe_queue = UnsafeCircularQueue(10)\n",
    "\n",
    "thread1 = threading.Thread(target=produce, args=(unsafe_queue, 100, \"Hello!\"))\n",
    "thread2 = threading.Thread(target=produce, args=(unsafe_queue, 100, \"Goodbye!\"))\n",
    "thread3 = threading.Thread(target=consume, args=(unsafe_queue, 200))\n",
    "\n",
    "thread1.start()\n",
    "thread2.start()\n",
    "thread3.start()\n",
    "thread1.join()\n",
    "thread2.join()\n",
    "thread3.join()"
   ]
  },
  {
   "cell_type": "markdown",
   "id": "b3fba0b3-eb61-4def-b8eb-c97677ace697",
   "metadata": {},
   "source": [
    "### 死锁队列"
   ]
  },
  {
   "cell_type": "markdown",
   "id": "d24a9a1b-a00d-4b89-a6a3-6f38d7a1b8e0",
   "metadata": {},
   "source": [
    "# 应用：哲学家就餐问题"
   ]
  },
  {
   "cell_type": "code",
   "execution_count": 10,
   "id": "69e334b2-223b-4909-b9ee-494a12cfab94",
   "metadata": {},
   "outputs": [],
   "source": [
    "def generate_forks(n):\n",
    "    forks = list()\n",
    "    for i in range(n):\n",
    "        forks.append(Fork(i))\n",
    "    return forks\n",
    "\n",
    "\n",
    "def arrange_philosophers(philosophers, forks):\n",
    "    assert len(philosophers) == len(forks)\n",
    "    \n",
    "    n = len(philosophers)\n",
    "    for i in range(n):\n",
    "        left_fork = forks[(i + 1) % n]\n",
    "        right_fork = forks[i]\n",
    "        philosophers[i].set_left_fork(left_fork)\n",
    "        philosophers[i].set_right_fork(right_fork)\n",
    "        print(philosophers[i])\n",
    "\n",
    "\n",
    "def dinning_philosophers_main(philosophers):\n",
    "    try:\n",
    "        threads = list()\n",
    "        for phil in philosophers:\n",
    "            t = threading.Thread(target=phil)\n",
    "            threads.append(t)\n",
    "            t.start()\n",
    "        for t in threads:\n",
    "            t.join()\n",
    "    except KeyboardInterrupt:\n",
    "        for t in threads:\n",
    "            t.is_alive = False\n",
    "\n",
    "NUM_PHILOSOPHERS = 5"
   ]
  },
  {
   "cell_type": "markdown",
   "id": "f340fe7b-8ba7-4634-90a2-79b2eb669da0",
   "metadata": {},
   "source": [
    "## 死锁解法"
   ]
  },
  {
   "cell_type": "code",
   "execution_count": 11,
   "id": "902e842b-e813-475a-af07-899262daad05",
   "metadata": {},
   "outputs": [
    {
     "name": "stdout",
     "output_type": "stream",
     "text": [
      "DeadLockPhilosopher[index=0, left_fork=Fork[item_index=1], right_fork=Fork[item_index=0]]\n",
      "DeadLockPhilosopher[index=1, left_fork=Fork[item_index=2], right_fork=Fork[item_index=1]]\n",
      "DeadLockPhilosopher[index=2, left_fork=Fork[item_index=3], right_fork=Fork[item_index=2]]\n",
      "DeadLockPhilosopher[index=3, left_fork=Fork[item_index=4], right_fork=Fork[item_index=3]]\n",
      "DeadLockPhilosopher[index=4, left_fork=Fork[item_index=0], right_fork=Fork[item_index=4]]\n"
     ]
    }
   ],
   "source": [
    "forks = generate_forks(NUM_PHILOSOPHERS)\n",
    "philosophers = list()\n",
    "for i in range(NUM_PHILOSOPHERS):\n",
    "    philosophers.append(DeadLockPhilosopher(i))\n",
    "arrange_philosophers(philosophers, forks)"
   ]
  },
  {
   "cell_type": "markdown",
   "id": "470f6f22-2f73-4117-89a4-bc05e1193c58",
   "metadata": {},
   "source": [
    "下一行代码会由于死锁完全阻塞住，直接终止下一行代码的运行即可。"
   ]
  },
  {
   "cell_type": "code",
   "execution_count": 12,
   "id": "9a045668-f69a-4238-b28e-14165108d210",
   "metadata": {
    "tags": []
   },
   "outputs": [
    {
     "name": "stdout",
     "output_type": "stream",
     "text": [
      "Philosopher #0 is taking fork #1.Philosopher #1 is taking fork #2.\n",
      "Philosopher #2 is taking fork #3.Philosopher #3 is taking fork #4.\n",
      "\n",
      "\n",
      "Philosopher #4 is taking fork #0.\n"
     ]
    }
   ],
   "source": [
    "dinning_philosophers_main(philosophers)"
   ]
  },
  {
   "cell_type": "markdown",
   "id": "12b6767b-a543-4f44-a6a1-2fb49995686e",
   "metadata": {},
   "source": [
    "## 服务生法"
   ]
  },
  {
   "cell_type": "code",
   "execution_count": 14,
   "id": "2a63dbb6-ec9b-4621-b594-1446a0257b76",
   "metadata": {},
   "outputs": [
    {
     "name": "stdout",
     "output_type": "stream",
     "text": [
      "ServedPhilosopher[index=0, left_fork=Fork[item_index=1], right_fork=Fork[item_index=0]][waiter=<unlocked _thread.lock object at 0x7ff4782627b0>]\n",
      "ServedPhilosopher[index=1, left_fork=Fork[item_index=2], right_fork=Fork[item_index=1]][waiter=<unlocked _thread.lock object at 0x7ff4782627b0>]\n",
      "ServedPhilosopher[index=2, left_fork=Fork[item_index=3], right_fork=Fork[item_index=2]][waiter=<unlocked _thread.lock object at 0x7ff4782627b0>]\n",
      "ServedPhilosopher[index=3, left_fork=Fork[item_index=4], right_fork=Fork[item_index=3]][waiter=<unlocked _thread.lock object at 0x7ff4782627b0>]\n",
      "ServedPhilosopher[index=4, left_fork=Fork[item_index=0], right_fork=Fork[item_index=4]][waiter=<unlocked _thread.lock object at 0x7ff4782627b0>]\n"
     ]
    }
   ],
   "source": [
    "waiter = threading.Lock()\n",
    "forks = generate_forks(NUM_PHILOSOPHERS)\n",
    "philosophers = list()\n",
    "for i in range(NUM_PHILOSOPHERS):\n",
    "    philosophers.append(ServedPhilosopher(i, waiter))\n",
    "arrange_philosophers(philosophers, forks)"
   ]
  },
  {
   "cell_type": "code",
   "execution_count": 13,
   "id": "33eeecb7-8f83-4d55-8e34-f52908652d82",
   "metadata": {},
   "outputs": [
    {
     "name": "stdout",
     "output_type": "stream",
     "text": [
      "Philosopher #0 is taking fork #1.\n",
      "Philosopher #0 is taking fork #0.\n",
      "Philosopher #0 is eating.(1 totally)Philosopher #1 is taking fork #2.\n",
      "\n",
      "Philosopher #0 is putting down fork #1.\n",
      "Philosopher #0 is putting down fork #0.\n",
      "Philosopher #0 is thinking.(1 totally)\n",
      "Philosopher #1 is taking fork #1.\n",
      "Philosopher #1 is eating.(1 totally)Philosopher #2 is taking fork #3.\n",
      "\n",
      "Philosopher #1 is putting down fork #2.\n",
      "Philosopher #1 is putting down fork #1.\n",
      "Philosopher #1 is thinking.(1 totally)\n",
      "Philosopher #2 is taking fork #2.\n",
      "Philosopher #2 is eating.(1 totally)Philosopher #3 is taking fork #4.\n",
      "\n",
      "Philosopher #2 is putting down fork #3.\n",
      "Philosopher #2 is putting down fork #2.\n",
      "Philosopher #2 is thinking.(1 totally)\n",
      "Philosopher #3 is taking fork #3.\n",
      "Philosopher #3 is eating.(1 totally)Philosopher #4 is taking fork #0.\n",
      "\n",
      "Philosopher #3 is putting down fork #4.\n",
      "Philosopher #3 is putting down fork #3.\n",
      "Philosopher #3 is thinking.(1 totally)\n",
      "Philosopher #4 is taking fork #4.\n",
      "Philosopher #4 is eating.(1 totally)Philosopher #0 is taking fork #1.\n",
      "\n",
      "Philosopher #4 is putting down fork #0.\n",
      "Philosopher #4 is putting down fork #4.\n",
      "Philosopher #4 is thinking.(1 totally)\n",
      "Philosopher #0 is taking fork #0.\n",
      "Philosopher #0 is eating.(2 totally)Philosopher #1 is taking fork #2.\n",
      "\n",
      "Philosopher #0 is putting down fork #1.\n",
      "Philosopher #0 is putting down fork #0.\n",
      "Philosopher #0 is thinking.(2 totally)\n",
      "Philosopher #1 is taking fork #1.\n",
      "Philosopher #1 is eating.(2 totally)Philosopher #2 is taking fork #3.\n",
      "\n",
      "Philosopher #1 is putting down fork #2.\n",
      "Philosopher #1 is putting down fork #1.\n",
      "Philosopher #1 is thinking.(2 totally)\n",
      "Philosopher #2 is taking fork #2.\n",
      "Philosopher #2 is eating.(2 totally)Philosopher #3 is taking fork #4.\n",
      "\n",
      "Philosopher #2 is putting down fork #3.\n",
      "Philosopher #2 is putting down fork #2.\n",
      "Philosopher #2 is thinking.(2 totally)\n",
      "Philosopher #3 is taking fork #3.\n",
      "Philosopher #3 is eating.(2 totally)Philosopher #4 is taking fork #0.\n",
      "\n",
      "Philosopher #3 is putting down fork #4.\n",
      "Philosopher #3 is putting down fork #3.\n",
      "Philosopher #3 is thinking.(2 totally)\n",
      "Philosopher #4 is taking fork #4.\n",
      "Philosopher #4 is eating.(2 totally)Philosopher #0 is taking fork #1.\n",
      "\n",
      "Philosopher #4 is putting down fork #0.\n",
      "Philosopher #4 is putting down fork #4.\n",
      "Philosopher #4 is thinking.(2 totally)\n",
      "Philosopher #0 is taking fork #0.\n",
      "Philosopher #0 is eating.(3 totally)Philosopher #1 is taking fork #2.\n",
      "\n",
      "Philosopher #0 is putting down fork #1.\n",
      "Philosopher #0 is putting down fork #0.\n",
      "Philosopher #0 is thinking.(3 totally)\n",
      "Philosopher #1 is taking fork #1.\n",
      "Philosopher #1 is eating.(3 totally)Philosopher #2 is taking fork #3.\n",
      "\n",
      "Philosopher #1 is putting down fork #2.\n",
      "Philosopher #1 is putting down fork #1.\n",
      "Philosopher #1 is thinking.(3 totally)\n",
      "Philosopher #2 is taking fork #2.\n",
      "Philosopher #2 is eating.(3 totally)Philosopher #3 is taking fork #4.\n",
      "\n",
      "Philosopher #2 is putting down fork #3.\n",
      "Philosopher #2 is putting down fork #2.\n",
      "Philosopher #2 is thinking.(3 totally)\n",
      "Philosopher #3 is taking fork #3.\n",
      "Philosopher #3 is eating.(3 totally)Philosopher #4 is taking fork #0.\n",
      "\n",
      "Philosopher #3 is putting down fork #4.\n",
      "Philosopher #3 is putting down fork #3.\n",
      "Philosopher #3 is thinking.(3 totally)\n",
      "Philosopher #4 is taking fork #4.\n",
      "Philosopher #4 is eating.(3 totally)Philosopher #0 is taking fork #1.\n",
      "\n",
      "Philosopher #4 is putting down fork #0.\n",
      "Philosopher #4 is putting down fork #4.\n",
      "Philosopher #4 is thinking.(3 totally)Philosopher #0 is taking fork #0.\n",
      "\n",
      "Philosopher #0 is eating.(4 totally)Philosopher #1 is taking fork #2.\n",
      "\n",
      "Philosopher #0 is putting down fork #1.\n",
      "Philosopher #0 is putting down fork #0.\n",
      "Philosopher #0 is thinking.(4 totally)\n",
      "Philosopher #1 is taking fork #1.\n",
      "Philosopher #1 is eating.(4 totally)Philosopher #2 is taking fork #3.\n",
      "\n",
      "Philosopher #1 is putting down fork #2.\n",
      "Philosopher #1 is putting down fork #1.\n",
      "Philosopher #1 is thinking.(4 totally)\n",
      "Philosopher #2 is taking fork #2.\n",
      "Philosopher #2 is eating.(4 totally)Philosopher #3 is taking fork #4.\n",
      "\n",
      "Philosopher #2 is putting down fork #3.\n",
      "Philosopher #2 is putting down fork #2.\n",
      "Philosopher #3 is taking fork #3.\n",
      "Philosopher #2 is thinking.(4 totally)\n",
      "Philosopher #3 is eating.(4 totally)Philosopher #4 is taking fork #0.\n",
      "\n",
      "Philosopher #3 is putting down fork #4.\n",
      "Philosopher #3 is putting down fork #3.\n",
      "Philosopher #3 is thinking.(4 totally)\n",
      "Philosopher #4 is taking fork #4.\n",
      "Philosopher #4 is eating.(4 totally)Philosopher #0 is taking fork #1.\n",
      "\n",
      "Philosopher #4 is putting down fork #0.\n",
      "Philosopher #4 is putting down fork #4.\n",
      "Philosopher #4 is thinking.(4 totally)\n",
      "Philosopher #0 is taking fork #0.\n",
      "Philosopher #0 is eating.(5 totally)Philosopher #1 is taking fork #2.\n",
      "\n",
      "Philosopher #0 is putting down fork #1.\n",
      "Philosopher #0 is putting down fork #0.\n",
      "Philosopher #0 is thinking.(5 totally)\n",
      "Philosopher #1 is taking fork #1.\n",
      "Philosopher #1 is eating.(5 totally)Philosopher #2 is taking fork #3.\n",
      "\n",
      "Philosopher #1 is putting down fork #2.\n",
      "Philosopher #1 is putting down fork #1.\n",
      "Philosopher #1 is thinking.(5 totally)\n",
      "Philosopher #2 is taking fork #2.\n",
      "Philosopher #2 is eating.(5 totally)Philosopher #3 is taking fork #4.\n",
      "\n",
      "Philosopher #2 is putting down fork #3.\n",
      "Philosopher #2 is putting down fork #2.\n",
      "Philosopher #2 is thinking.(5 totally)\n",
      "Philosopher #3 is taking fork #3.\n",
      "Philosopher #3 is eating.(5 totally)Philosopher #4 is taking fork #0.\n",
      "\n",
      "Philosopher #3 is putting down fork #4.\n",
      "Philosopher #3 is putting down fork #3.\n",
      "Philosopher #3 is thinking.(5 totally)\n",
      "Philosopher #4 is taking fork #4.\n",
      "Philosopher #4 is eating.(5 totally)Philosopher #0 is taking fork #1.\n",
      "\n",
      "Philosopher #4 is putting down fork #0.\n",
      "Philosopher #4 is putting down fork #4.\n",
      "Philosopher #4 is thinking.(5 totally)\n",
      "Philosopher #0 is taking fork #0.\n",
      "Philosopher #0 is eating.(6 totally)Philosopher #1 is taking fork #2.\n",
      "\n",
      "Philosopher #0 is putting down fork #1.\n",
      "Philosopher #0 is putting down fork #0.\n",
      "Philosopher #0 is thinking.(6 totally)\n",
      "Philosopher #1 is taking fork #1.\n",
      "Philosopher #1 is eating.(6 totally)Philosopher #2 is taking fork #3.\n",
      "\n",
      "Philosopher #1 is putting down fork #2.\n",
      "Philosopher #1 is putting down fork #1.\n",
      "Philosopher #1 is thinking.(6 totally)\n",
      "Philosopher #2 is taking fork #2.\n",
      "Philosopher #2 is eating.(6 totally)Philosopher #3 is taking fork #4.\n",
      "\n",
      "Philosopher #2 is putting down fork #3.\n",
      "Philosopher #2 is putting down fork #2.\n",
      "Philosopher #2 is thinking.(6 totally)\n",
      "Philosopher #3 is taking fork #3.\n",
      "Philosopher #3 is eating.(6 totally)Philosopher #4 is taking fork #0.\n",
      "\n",
      "Philosopher #3 is putting down fork #4.\n",
      "Philosopher #3 is putting down fork #3.\n",
      "Philosopher #3 is thinking.(6 totally)\n",
      "Philosopher #4 is taking fork #4.\n",
      "Philosopher #4 is eating.(6 totally)Philosopher #0 is taking fork #1.\n",
      "\n",
      "Philosopher #4 is putting down fork #0.\n",
      "Philosopher #4 is putting down fork #4.\n",
      "Philosopher #0 is taking fork #0.\n",
      "Philosopher #4 is thinking.(6 totally)\n",
      "Philosopher #0 is eating.(7 totally)Philosopher #1 is taking fork #2.\n",
      "\n",
      "Philosopher #0 is putting down fork #1.\n",
      "Philosopher #0 is putting down fork #0.\n",
      "Philosopher #0 is thinking.(7 totally)\n",
      "Philosopher #1 is taking fork #1.\n",
      "Philosopher #1 is eating.(7 totally)\n",
      "Philosopher #2 is taking fork #3.\n",
      "Philosopher #1 is putting down fork #2.\n",
      "Philosopher #1 is putting down fork #1.\n",
      "Philosopher #1 is thinking.(7 totally)\n",
      "Philosopher #2 is taking fork #2.\n",
      "Philosopher #2 is eating.(7 totally)Philosopher #3 is taking fork #4.\n",
      "\n",
      "Philosopher #2 is putting down fork #3.\n",
      "Philosopher #2 is putting down fork #2.\n",
      "Philosopher #2 is thinking.(7 totally)\n",
      "Philosopher #3 is taking fork #3.\n",
      "Philosopher #3 is eating.(7 totally)Philosopher #4 is taking fork #0.\n",
      "\n",
      "Philosopher #3 is putting down fork #4.\n",
      "Philosopher #3 is putting down fork #3.\n",
      "Philosopher #3 is thinking.(7 totally)\n",
      "Philosopher #4 is taking fork #4.\n",
      "Philosopher #4 is eating.(7 totally)Philosopher #0 is taking fork #1.\n",
      "\n",
      "Philosopher #4 is putting down fork #0.\n",
      "Philosopher #4 is putting down fork #4.\n",
      "Philosopher #4 is thinking.(7 totally)\n",
      "Philosopher #0 is taking fork #0.\n",
      "Philosopher #0 is eating.(8 totally)Philosopher #1 is taking fork #2.\n",
      "\n",
      "Philosopher #0 is putting down fork #1.\n",
      "Philosopher #0 is putting down fork #0.\n",
      "Philosopher #0 is thinking.(8 totally)\n",
      "Philosopher #1 is taking fork #1.\n",
      "Philosopher #1 is eating.(8 totally)Philosopher #2 is taking fork #3.\n",
      "\n",
      "Philosopher #1 is putting down fork #2.\n",
      "Philosopher #1 is putting down fork #1.\n",
      "Philosopher #1 is thinking.(8 totally)\n",
      "Philosopher #2 is taking fork #2.\n",
      "Philosopher #2 is eating.(8 totally)Philosopher #3 is taking fork #4.\n",
      "\n",
      "Philosopher #2 is putting down fork #3.\n",
      "Philosopher #2 is putting down fork #2.\n",
      "Philosopher #2 is thinking.(8 totally)\n",
      "Philosopher #3 is taking fork #3.\n",
      "Philosopher #3 is eating.(8 totally)Philosopher #4 is taking fork #0.\n",
      "\n",
      "Philosopher #3 is putting down fork #4.\n",
      "Philosopher #3 is putting down fork #3.\n",
      "Philosopher #4 is taking fork #4.Philosopher #3 is thinking.(8 totally)\n",
      "\n",
      "Philosopher #4 is eating.(8 totally)Philosopher #0 is taking fork #1.\n",
      "\n",
      "Philosopher #4 is putting down fork #0.\n",
      "Philosopher #4 is putting down fork #4.\n",
      "Philosopher #4 is thinking.(8 totally)\n",
      "Philosopher #0 is taking fork #0.\n",
      "Philosopher #0 is eating.(9 totally)Philosopher #1 is taking fork #2.\n",
      "\n",
      "Philosopher #0 is putting down fork #1.\n",
      "Philosopher #0 is putting down fork #0.\n",
      "Philosopher #0 is thinking.(9 totally)\n",
      "Philosopher #1 is taking fork #1.\n",
      "Philosopher #1 is eating.(9 totally)Philosopher #2 is taking fork #3.\n",
      "\n",
      "Philosopher #1 is putting down fork #2.\n",
      "Philosopher #1 is putting down fork #1.\n",
      "Philosopher #1 is thinking.(9 totally)\n",
      "Philosopher #2 is taking fork #2.\n",
      "Philosopher #2 is eating.(9 totally)Philosopher #3 is taking fork #4.\n",
      "\n",
      "Philosopher #2 is putting down fork #3.\n",
      "Philosopher #2 is putting down fork #2.\n",
      "Philosopher #2 is thinking.(9 totally)\n",
      "Philosopher #3 is taking fork #3.\n",
      "Philosopher #3 is eating.(9 totally)Philosopher #4 is taking fork #0.\n",
      "\n",
      "Philosopher #3 is putting down fork #4.\n",
      "Philosopher #3 is putting down fork #3.\n",
      "Philosopher #3 is thinking.(9 totally)\n",
      "Philosopher #4 is taking fork #4.\n",
      "Philosopher #4 is eating.(9 totally)Philosopher #0 is taking fork #1.\n",
      "\n",
      "Philosopher #4 is putting down fork #0.\n",
      "Philosopher #4 is putting down fork #4.\n",
      "Philosopher #4 is thinking.(9 totally)\n",
      "Philosopher #0 is taking fork #0.\n",
      "Philosopher #0 is eating.(10 totally)Philosopher #1 is taking fork #2.\n",
      "\n",
      "Philosopher #0 is putting down fork #1.\n",
      "Philosopher #0 is putting down fork #0.\n",
      "Philosopher #0 is thinking.(10 totally)\n",
      "Philosopher #1 is taking fork #1.\n",
      "Philosopher #1 is eating.(10 totally)Philosopher #2 is taking fork #3.\n",
      "\n",
      "Philosopher #1 is putting down fork #2.\n",
      "Philosopher #1 is putting down fork #1.\n",
      "Philosopher #1 is thinking.(10 totally)\n",
      "Philosopher #2 is taking fork #2.\n",
      "Philosopher #2 is eating.(10 totally)Philosopher #3 is taking fork #4.\n",
      "\n",
      "Philosopher #2 is putting down fork #3.\n",
      "Philosopher #2 is putting down fork #2.Philosopher #3 is taking fork #3.\n",
      "Philosopher #2 is thinking.(10 totally)\n",
      "\n",
      "Philosopher #3 is eating.(10 totally)Philosopher #4 is taking fork #0.\n",
      "\n",
      "Philosopher #3 is putting down fork #4.\n",
      "Philosopher #3 is putting down fork #3.\n",
      "Philosopher #3 is thinking.(10 totally)\n",
      "Philosopher #4 is taking fork #4.\n",
      "Philosopher #4 is eating.(10 totally)\n",
      "Philosopher #4 is putting down fork #0.\n",
      "Philosopher #4 is putting down fork #4.\n",
      "Philosopher #4 is thinking.(10 totally)\n"
     ]
    }
   ],
   "source": [
    "dinning_philosophers_main(philosophers)"
   ]
  },
  {
   "cell_type": "code",
   "execution_count": null,
   "id": "5d4b4004-b441-4cbd-91ea-82e2b784cd27",
   "metadata": {},
   "outputs": [],
   "source": []
  }
 ],
 "metadata": {
  "kernelspec": {
   "display_name": "Python 3",
   "language": "python",
   "name": "python3"
  },
  "language_info": {
   "codemirror_mode": {
    "name": "ipython",
    "version": 3
   },
   "file_extension": ".py",
   "mimetype": "text/x-python",
   "name": "python",
   "nbconvert_exporter": "python",
   "pygments_lexer": "ipython3",
   "version": "3.8.8"
  }
 },
 "nbformat": 4,
 "nbformat_minor": 5
}